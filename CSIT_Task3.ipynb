{
 "cells": [
  {
   "cell_type": "code",
   "execution_count": 1,
   "metadata": {
    "id": "GglbqqL7_u5F"
   },
   "outputs": [],
   "source": [
    "import os\n",
    "import torch\n",
    "import whisper"
   ]
  },
  {
   "cell_type": "code",
   "execution_count": 3,
   "metadata": {
    "id": "ACFHUyMlApHB"
   },
   "outputs": [],
   "source": [
    "#!pip install git+https://github.com/openai/whisper.git"
   ]
  },
  {
   "cell_type": "code",
   "execution_count": 2,
   "metadata": {
    "id": "urHFflkmAMSS"
   },
   "outputs": [],
   "source": [
    "curr_dir = os.getcwd()\n",
    "#task_3_path = os.path.join(curr_dir, \"Task_3\")\n",
    "task_3_audio_path = os.path.join(curr_dir, \"C.Noisy_Voice.wav\")"
   ]
  },
  {
   "cell_type": "code",
   "execution_count": 4,
   "metadata": {
    "colab": {
     "base_uri": "https://localhost:8080/"
    },
    "id": "dh7tIqxSAifb",
    "outputId": "01bfa4e7-86a8-4ad1-cdbf-e1e4420fb4be"
   },
   "outputs": [
    {
     "name": "stdout",
     "output_type": "stream",
     "text": [
      " Sazı Covid'den eve, girmek tieten budadır. Fazla götürmeye unpleasantır. Savaşı düşunderlar, saywasuzlar, tergun edembile piger. Saydleser!\n"
     ]
    }
   ],
   "source": [
    "device = 'cuda' if torch.cuda.is_available() else 'cpu'\n",
    "model = whisper.load_model(\"large-v2\").to(device)\n",
    "result = model.transcribe(task_3_audio_path, language = \"turkish\")\n",
    "print(result[\"text\"])"
   ]
  },
  {
   "cell_type": "code",
   "execution_count": 5,
   "metadata": {
    "colab": {
     "base_uri": "https://localhost:8080/"
    },
    "id": "t0Fydx1QB7f6",
    "outputId": "a2d2f137-dcb6-4282-e59f-3a5d54a2df49"
   },
   "outputs": [
    {
     "name": "stdout",
     "output_type": "stream",
     "text": [
      " are you happy? i am very happy just desert take the girl go\n"
     ]
    }
   ],
   "source": [
    "translate_result = model.transcribe(task_3_audio_path, language = \"turkish\", task = \"translate\")\n",
    "print(translate_result[\"text\"])"
   ]
  },
  {
   "cell_type": "markdown",
   "metadata": {
    "id": "qeUWC0WFMQN7"
   },
   "source": [
    "After cleaning and using FTT"
   ]
  },
  {
   "cell_type": "code",
   "execution_count": 6,
   "metadata": {
    "colab": {
     "base_uri": "https://localhost:8080/"
    },
    "id": "uQ4ytnWUMVlE",
    "outputId": "eba1e665-e340-4525-82de-a3e4de2a126c"
   },
   "outputs": [
    {
     "name": "stdout",
     "output_type": "stream",
     "text": [
      " Senin için buradayım. Beni içeri al. Sadece birbirimize sahibiz. Sadece sen ve ben. Ne yapacağız? Kardan adam yapmak ister misin?\n"
     ]
    }
   ],
   "source": [
    "task_3_cleaned_audio_path = os.path.join(curr_dir, \"C.ftt_cleaned.wav\")\n",
    "\n",
    "result = model.transcribe(task_3_cleaned_audio_path, language = \"turkish\")\n",
    "print(result[\"text\"])"
   ]
  },
  {
   "cell_type": "code",
   "execution_count": 7,
   "metadata": {
    "colab": {
     "base_uri": "https://localhost:8080/"
    },
    "id": "4-iPIkcIMqZF",
    "outputId": "fbe60ae5-962d-4c10-e61a-9031a542a253"
   },
   "outputs": [
    {
     "name": "stdout",
     "output_type": "stream",
     "text": [
      " I'm here for you. Let me in. We only have each other. Only you and me. What will we do? Do you want to make snowmen?\n"
     ]
    }
   ],
   "source": [
    "translate_result = model.transcribe(task_3_cleaned_audio_path, language = \"turkish\", task = \"translate\")\n",
    "print(translate_result[\"text\"])"
   ]
  },
  {
   "cell_type": "markdown",
   "metadata": {
    "id": "rs1ymldlMdkK"
   },
   "source": []
  }
 ],
 "metadata": {
  "accelerator": "GPU",
  "colab": {
   "gpuType": "T4",
   "provenance": []
  },
  "kernelspec": {
   "display_name": "Python 3 (ipykernel)",
   "language": "python",
   "name": "python3"
  },
  "language_info": {
   "codemirror_mode": {
    "name": "ipython",
    "version": 3
   },
   "file_extension": ".py",
   "mimetype": "text/x-python",
   "name": "python",
   "nbconvert_exporter": "python",
   "pygments_lexer": "ipython3",
   "version": "3.9.10"
  }
 },
 "nbformat": 4,
 "nbformat_minor": 4
}
